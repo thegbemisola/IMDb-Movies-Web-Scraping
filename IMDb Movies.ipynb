{
 "cells": [
  {
   "cell_type": "code",
   "execution_count": 1,
   "id": "89dc9ba1",
   "metadata": {},
   "outputs": [],
   "source": [
    "# Importing Libraries\n",
    "\n",
    "import pandas as pd\n",
    "import requests\n",
    "from bs4 import BeautifulSoup"
   ]
  },
  {
   "cell_type": "code",
   "execution_count": 2,
   "id": "258aa402",
   "metadata": {},
   "outputs": [],
   "source": [
    "#Making a list of the urls since they are split into 5 pages\n",
    "urls = ['https://www.imdb.com/search/title/?groups=top_250&sort=user_rating',\n",
    "       'https://www.imdb.com/search/title/?groups=top_250&sort=user_rating,desc&start=51&ref_=adv_nxt',\n",
    "       'https://www.imdb.com/search/title/?groups=top_250&sort=user_rating,desc&start=101&ref_=adv_nxt',\n",
    "       'https://www.imdb.com/search/title/?groups=top_250&sort=user_rating,desc&start=151&ref_=adv_nxt',\n",
    "       'https://www.imdb.com/search/title/?groups=top_250&sort=user_rating,desc&start=201&ref_=adv_nxt']"
   ]
  },
  {
   "cell_type": "code",
   "execution_count": 3,
   "id": "f0929dfa",
   "metadata": {},
   "outputs": [],
   "source": [
    "# Making a list to store the scrapped information\n",
    "df_list = []\n",
    "\n",
    "# Looping through each url\n",
    "for url in urls:\n",
    "    response = requests.get(url)\n",
    "    soup = BeautifulSoup(response.content, 'html.parser')\n",
    "    movie_data = soup.find_all('div', class_= 'lister-item-content')\n",
    "\n",
    "    #looping through each movie description\n",
    "    for movie in movie_data:\n",
    "        movie_name = movie.h3.a.text\n",
    "        year = movie.h3.find('span', class_ =\"lister-item-year text-muted unbold\").text.replace('(', '').replace(')', '').replace('I', '')\n",
    "        runtime = movie.p.find('span', class_ =\"runtime\").text.replace(' min', '')\n",
    "        genre = movie.p.find('span',  class_ =\"genre\").text.strip()\n",
    "        rating = movie.find('strong').text\n",
    "        metascore = movie.find('span',  class_ =\"metascore\").text.strip() if movie.find('span', class_ = 'metascore') else''\n",
    "        values = movie.find_all('span',  attrs = {'name':\"nv\"} )\n",
    "        votes = values[0].text.replace(',', '')\n",
    "        gross = values[1].text.replace('$', '').replace('M', '') if len(values) >  2 else ''\n",
    "        rank = values[1].text.replace('#', '') if len(values) == 2 else values[2].text.replace('#', '')\n",
    "\n",
    "         #Append to list of dictionaries\n",
    "        df_list.append({'movie_name': movie_name,\n",
    "                            'year': year,\n",
    "                       'runtime(min)': runtime,\n",
    "                       'genre': genre,\n",
    "                       'rating': rating,\n",
    "                       'metascore': metascore,\n",
    "                       'votes': votes,\n",
    "                       'gross($)(M)': gross, \n",
    "                       'rank': rank})\n",
    "    df = pd.DataFrame(df_list, columns = ['movie_name', 'year', 'runtime(min)', 'genre', 'rating', \n",
    "                                          'metascore', 'votes', 'gross($)(M)', 'rank'])"
   ]
  },
  {
   "cell_type": "code",
   "execution_count": 5,
   "id": "2f6642fe",
   "metadata": {},
   "outputs": [],
   "source": [
    "# Save data to excel file\n",
    "df.to_excel(\"IMDb Movies.xlsx\", index=False)"
   ]
  }
 ],
 "metadata": {
  "kernelspec": {
   "display_name": "Python 3 (ipykernel)",
   "language": "python",
   "name": "python3"
  },
  "language_info": {
   "codemirror_mode": {
    "name": "ipython",
    "version": 3
   },
   "file_extension": ".py",
   "mimetype": "text/x-python",
   "name": "python",
   "nbconvert_exporter": "python",
   "pygments_lexer": "ipython3",
   "version": "3.9.13"
  }
 },
 "nbformat": 4,
 "nbformat_minor": 5
}
